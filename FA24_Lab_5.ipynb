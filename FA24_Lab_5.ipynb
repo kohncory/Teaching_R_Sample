{
  "nbformat": 4,
  "nbformat_minor": 0,
  "metadata": {
    "colab": {
      "provenance": [],
      "authorship_tag": "ABX9TyOSQNyTvO6GzoX5Irz4kAzk",
      "include_colab_link": true
    },
    "kernelspec": {
      "name": "ir",
      "display_name": "R"
    },
    "language_info": {
      "name": "R"
    }
  },
  "cells": [
    {
      "cell_type": "markdown",
      "metadata": {
        "id": "view-in-github",
        "colab_type": "text"
      },
      "source": [
        "<a href=\"https://colab.research.google.com/github/kohncory/Teaching_R_Sample/blob/main/FA24_Lab_5.ipynb\" target=\"_parent\"><img src=\"https://colab.research.google.com/assets/colab-badge.svg\" alt=\"Open In Colab\"/></a>"
      ]
    },
    {
      "cell_type": "markdown",
      "source": [
        "# BIOL 175 - Colab 5 (Chapter 4)\n",
        "# Describing data\n",
        "\n",
        "This file, made by Dr. Cory Kohn (Scripps and Pitzer Colleges), was originally based on tutorial 5 for the Analysis of Biological Data Labs available [here](https://whitlockschluter3e.zoology.ubc.ca/RLabs/R_tutorial_Describing_data.html).\n",
        "\n",
        "###Learning outcomes:\n",
        "*   Investigate sampling error; see that larger samples have less sampling error.\n",
        "*   Visualize confidence intervals.\n",
        "*   Calculate basic summary statistics using R.\n",
        "*   Calculate confidence intervals for the mean with R."
      ],
      "metadata": {
        "id": "6lo81F1V7AXW"
      }
    },
    {
      "cell_type": "markdown",
      "source": [
        "## Learning the tools"
      ],
      "metadata": {
        "id": "sngipxnD7lU_"
      }
    },
    {
      "cell_type": "markdown",
      "source": [
        "### Missing data\n",
        "Sometimes we do not have all variables measured on all individuals in the data set. When this happens, we need a space holder in our data files so that R knows that the data is missing. The standard way of doing this in R is to put “NA” (without the quotes) in the location that the data would have gone. NA is short for “not available”.\n",
        "\n",
        "For example, in the Titanic data set, we do not know the age of several passengers. Let’s look at it. Load the Titanic data set after you have uploaded it to your session storage (see Lab 2, reading a file):"
      ],
      "metadata": {
        "id": "j1au80HY7nEZ"
      }
    },
    {
      "cell_type": "code",
      "source": [
        "titanicData <- read.csv(\"titanic.csv\", stringsAsFactors = TRUE)"
      ],
      "metadata": {
        "id": "4ub_jmoE9CQB"
      },
      "execution_count": null,
      "outputs": []
    },
    {
      "cell_type": "markdown",
      "source": [
        "Have R print out the list of the age variable, which you can do by just typing its name:"
      ],
      "metadata": {
        "id": "0XVISpyr9Zht"
      }
    },
    {
      "cell_type": "code",
      "source": [
        "titanicData$age"
      ],
      "metadata": {
        "colab": {
          "base_uri": "https://localhost:8080/",
          "height": 329
        },
        "id": "fB5wIZDR9bYz",
        "outputId": "42f16108-0514-4028-b658-e06a321ab63c"
      },
      "execution_count": null,
      "outputs": [
        {
          "output_type": "display_data",
          "data": {
            "text/html": [
              "<style>\n",
              ".list-inline {list-style: none; margin:0; padding: 0}\n",
              ".list-inline>li {display: inline-block}\n",
              ".list-inline>li:not(:last-child)::after {content: \"\\00b7\"; padding: 0 .5ex}\n",
              "</style>\n",
              "<ol class=list-inline><li>29</li><li>2</li><li>30</li><li>25</li><li>0.9167</li><li>47</li><li>63</li><li>39</li><li>58</li><li>71</li><li>47</li><li>19</li><li>&lt;NA&gt;</li><li>&lt;NA&gt;</li><li>&lt;NA&gt;</li><li>50</li><li>24</li><li>36</li><li>37</li><li>47</li><li>26</li><li>25</li><li>25</li><li>19</li><li>28</li><li>45</li><li>39</li><li>30</li><li>58</li><li>&lt;NA&gt;</li><li>45</li><li>22</li><li>&lt;NA&gt;</li><li>41</li><li>48</li><li>&lt;NA&gt;</li><li>44</li><li>59</li><li>60</li><li>45</li><li>&lt;NA&gt;</li><li>53</li><li>58</li><li>36</li><li>33</li><li>&lt;NA&gt;</li><li>&lt;NA&gt;</li><li>36</li><li>36</li><li>14</li><li>11</li><li>49</li><li>&lt;NA&gt;</li><li>36</li><li>&lt;NA&gt;</li><li>46</li><li>47</li><li>27</li><li>31</li><li>&lt;NA&gt;</li><li>&lt;NA&gt;</li><li>&lt;NA&gt;</li><li>&lt;NA&gt;</li><li>27</li><li>26</li><li>&lt;NA&gt;</li><li>&lt;NA&gt;</li><li>64</li><li>37</li><li>39</li><li>55</li><li>&lt;NA&gt;</li><li>70</li><li>69</li><li>36</li><li>39</li><li>38</li><li>&lt;NA&gt;</li><li>27</li><li>31</li><li>27</li><li>&lt;NA&gt;</li><li>31</li><li>17</li><li>&lt;NA&gt;</li><li>&lt;NA&gt;</li><li>4</li><li>27</li><li>50</li><li>48</li><li>49</li><li>48</li><li>39</li><li>23</li><li>53</li><li>36</li><li>&lt;NA&gt;</li><li>&lt;NA&gt;</li><li>30</li><li>24</li><li>19</li><li>28</li><li>23</li><li>64</li><li>60</li><li>&lt;NA&gt;</li><li>49</li><li>&lt;NA&gt;</li><li>44</li><li>22</li><li>60</li><li>48</li><li>37</li><li>35</li><li>47</li><li>22</li><li>45</li><li>49</li><li>&lt;NA&gt;</li><li>71</li><li>54</li><li>38</li><li>19</li><li>58</li><li>45</li><li>23</li><li>46</li><li>25</li><li>21</li><li>48</li><li>49</li><li>45</li><li>36</li><li>&lt;NA&gt;</li><li>55</li><li>52</li><li>24</li><li>&lt;NA&gt;</li><li>&lt;NA&gt;</li><li>&lt;NA&gt;</li><li>16</li><li>44</li><li>51</li><li>42</li><li>35</li><li>35</li><li>38</li><li>35</li><li>&lt;NA&gt;</li><li>50</li><li>49</li><li>46</li><li>&lt;NA&gt;</li><li>58</li><li>41</li><li>&lt;NA&gt;</li><li>42</li><li>40</li><li>&lt;NA&gt;</li><li>&lt;NA&gt;</li><li>&lt;NA&gt;</li><li>42</li><li>55</li><li>50</li><li>16</li><li>&lt;NA&gt;</li><li>29</li><li>21</li><li>30</li><li>15</li><li>30</li><li>&lt;NA&gt;</li><li>&lt;NA&gt;</li><li>&lt;NA&gt;</li><li>46</li><li>54</li><li>36</li><li>28</li><li>&lt;NA&gt;</li><li>65</li><li>33</li><li>44</li><li>37</li><li>&lt;NA&gt;</li><li>55</li><li>47</li><li>36</li><li>58</li><li>31</li><li>23</li><li>19</li><li>64</li><li>&lt;NA&gt;</li><li>64</li><li>22</li><li>28</li><li>&lt;NA&gt;</li><li>&lt;NA&gt;</li><li>22</li><li>&lt;NA&gt;</li><li>⋯</li><li>&lt;NA&gt;</li><li>&lt;NA&gt;</li><li>&lt;NA&gt;</li><li>&lt;NA&gt;</li><li>&lt;NA&gt;</li><li>&lt;NA&gt;</li><li>&lt;NA&gt;</li><li>&lt;NA&gt;</li><li>&lt;NA&gt;</li><li>&lt;NA&gt;</li><li>&lt;NA&gt;</li><li>&lt;NA&gt;</li><li>&lt;NA&gt;</li><li>&lt;NA&gt;</li><li>&lt;NA&gt;</li><li>&lt;NA&gt;</li><li>&lt;NA&gt;</li><li>&lt;NA&gt;</li><li>&lt;NA&gt;</li><li>&lt;NA&gt;</li><li>&lt;NA&gt;</li><li>&lt;NA&gt;</li><li>&lt;NA&gt;</li><li>&lt;NA&gt;</li><li>&lt;NA&gt;</li><li>&lt;NA&gt;</li><li>&lt;NA&gt;</li><li>&lt;NA&gt;</li><li>&lt;NA&gt;</li><li>&lt;NA&gt;</li><li>&lt;NA&gt;</li><li>&lt;NA&gt;</li><li>&lt;NA&gt;</li><li>&lt;NA&gt;</li><li>&lt;NA&gt;</li><li>&lt;NA&gt;</li><li>&lt;NA&gt;</li><li>&lt;NA&gt;</li><li>&lt;NA&gt;</li><li>&lt;NA&gt;</li><li>&lt;NA&gt;</li><li>&lt;NA&gt;</li><li>&lt;NA&gt;</li><li>&lt;NA&gt;</li><li>&lt;NA&gt;</li><li>&lt;NA&gt;</li><li>&lt;NA&gt;</li><li>&lt;NA&gt;</li><li>&lt;NA&gt;</li><li>&lt;NA&gt;</li><li>&lt;NA&gt;</li><li>&lt;NA&gt;</li><li>&lt;NA&gt;</li><li>&lt;NA&gt;</li><li>&lt;NA&gt;</li><li>&lt;NA&gt;</li><li>&lt;NA&gt;</li><li>&lt;NA&gt;</li><li>&lt;NA&gt;</li><li>&lt;NA&gt;</li><li>&lt;NA&gt;</li><li>&lt;NA&gt;</li><li>&lt;NA&gt;</li><li>&lt;NA&gt;</li><li>&lt;NA&gt;</li><li>&lt;NA&gt;</li><li>&lt;NA&gt;</li><li>&lt;NA&gt;</li><li>&lt;NA&gt;</li><li>&lt;NA&gt;</li><li>&lt;NA&gt;</li><li>&lt;NA&gt;</li><li>&lt;NA&gt;</li><li>&lt;NA&gt;</li><li>&lt;NA&gt;</li><li>&lt;NA&gt;</li><li>&lt;NA&gt;</li><li>&lt;NA&gt;</li><li>&lt;NA&gt;</li><li>&lt;NA&gt;</li><li>&lt;NA&gt;</li><li>&lt;NA&gt;</li><li>&lt;NA&gt;</li><li>&lt;NA&gt;</li><li>&lt;NA&gt;</li><li>&lt;NA&gt;</li><li>&lt;NA&gt;</li><li>&lt;NA&gt;</li><li>&lt;NA&gt;</li><li>&lt;NA&gt;</li><li>&lt;NA&gt;</li><li>&lt;NA&gt;</li><li>&lt;NA&gt;</li><li>&lt;NA&gt;</li><li>&lt;NA&gt;</li><li>&lt;NA&gt;</li><li>&lt;NA&gt;</li><li>&lt;NA&gt;</li><li>&lt;NA&gt;</li><li>&lt;NA&gt;</li><li>&lt;NA&gt;</li><li>&lt;NA&gt;</li><li>&lt;NA&gt;</li><li>&lt;NA&gt;</li><li>&lt;NA&gt;</li><li>&lt;NA&gt;</li><li>&lt;NA&gt;</li><li>&lt;NA&gt;</li><li>&lt;NA&gt;</li><li>&lt;NA&gt;</li><li>&lt;NA&gt;</li><li>&lt;NA&gt;</li><li>&lt;NA&gt;</li><li>&lt;NA&gt;</li><li>&lt;NA&gt;</li><li>&lt;NA&gt;</li><li>&lt;NA&gt;</li><li>&lt;NA&gt;</li><li>&lt;NA&gt;</li><li>&lt;NA&gt;</li><li>&lt;NA&gt;</li><li>&lt;NA&gt;</li><li>&lt;NA&gt;</li><li>&lt;NA&gt;</li><li>&lt;NA&gt;</li><li>&lt;NA&gt;</li><li>&lt;NA&gt;</li><li>&lt;NA&gt;</li><li>&lt;NA&gt;</li><li>&lt;NA&gt;</li><li>&lt;NA&gt;</li><li>&lt;NA&gt;</li><li>&lt;NA&gt;</li><li>&lt;NA&gt;</li><li>&lt;NA&gt;</li><li>&lt;NA&gt;</li><li>&lt;NA&gt;</li><li>&lt;NA&gt;</li><li>&lt;NA&gt;</li><li>&lt;NA&gt;</li><li>&lt;NA&gt;</li><li>&lt;NA&gt;</li><li>&lt;NA&gt;</li><li>&lt;NA&gt;</li><li>&lt;NA&gt;</li><li>&lt;NA&gt;</li><li>&lt;NA&gt;</li><li>&lt;NA&gt;</li><li>&lt;NA&gt;</li><li>&lt;NA&gt;</li><li>&lt;NA&gt;</li><li>&lt;NA&gt;</li><li>&lt;NA&gt;</li><li>&lt;NA&gt;</li><li>&lt;NA&gt;</li><li>&lt;NA&gt;</li><li>&lt;NA&gt;</li><li>&lt;NA&gt;</li><li>&lt;NA&gt;</li><li>&lt;NA&gt;</li><li>&lt;NA&gt;</li><li>&lt;NA&gt;</li><li>&lt;NA&gt;</li><li>&lt;NA&gt;</li><li>&lt;NA&gt;</li><li>&lt;NA&gt;</li><li>&lt;NA&gt;</li><li>&lt;NA&gt;</li><li>&lt;NA&gt;</li><li>&lt;NA&gt;</li><li>&lt;NA&gt;</li><li>&lt;NA&gt;</li><li>&lt;NA&gt;</li><li>&lt;NA&gt;</li><li>&lt;NA&gt;</li><li>&lt;NA&gt;</li><li>&lt;NA&gt;</li><li>&lt;NA&gt;</li><li>&lt;NA&gt;</li><li>&lt;NA&gt;</li><li>&lt;NA&gt;</li><li>&lt;NA&gt;</li><li>&lt;NA&gt;</li><li>&lt;NA&gt;</li><li>&lt;NA&gt;</li><li>&lt;NA&gt;</li><li>&lt;NA&gt;</li><li>&lt;NA&gt;</li><li>&lt;NA&gt;</li><li>&lt;NA&gt;</li><li>&lt;NA&gt;</li><li>&lt;NA&gt;</li><li>&lt;NA&gt;</li><li>&lt;NA&gt;</li><li>&lt;NA&gt;</li><li>&lt;NA&gt;</li><li>&lt;NA&gt;</li><li>&lt;NA&gt;</li><li>&lt;NA&gt;</li><li>&lt;NA&gt;</li></ol>\n"
            ],
            "text/markdown": "1. 29\n2. 2\n3. 30\n4. 25\n5. 0.9167\n6. 47\n7. 63\n8. 39\n9. 58\n10. 71\n11. 47\n12. 19\n13. &lt;NA&gt;\n14. &lt;NA&gt;\n15. &lt;NA&gt;\n16. 50\n17. 24\n18. 36\n19. 37\n20. 47\n21. 26\n22. 25\n23. 25\n24. 19\n25. 28\n26. 45\n27. 39\n28. 30\n29. 58\n30. &lt;NA&gt;\n31. 45\n32. 22\n33. &lt;NA&gt;\n34. 41\n35. 48\n36. &lt;NA&gt;\n37. 44\n38. 59\n39. 60\n40. 45\n41. &lt;NA&gt;\n42. 53\n43. 58\n44. 36\n45. 33\n46. &lt;NA&gt;\n47. &lt;NA&gt;\n48. 36\n49. 36\n50. 14\n51. 11\n52. 49\n53. &lt;NA&gt;\n54. 36\n55. &lt;NA&gt;\n56. 46\n57. 47\n58. 27\n59. 31\n60. &lt;NA&gt;\n61. &lt;NA&gt;\n62. &lt;NA&gt;\n63. &lt;NA&gt;\n64. 27\n65. 26\n66. &lt;NA&gt;\n67. &lt;NA&gt;\n68. 64\n69. 37\n70. 39\n71. 55\n72. &lt;NA&gt;\n73. 70\n74. 69\n75. 36\n76. 39\n77. 38\n78. &lt;NA&gt;\n79. 27\n80. 31\n81. 27\n82. &lt;NA&gt;\n83. 31\n84. 17\n85. &lt;NA&gt;\n86. &lt;NA&gt;\n87. 4\n88. 27\n89. 50\n90. 48\n91. 49\n92. 48\n93. 39\n94. 23\n95. 53\n96. 36\n97. &lt;NA&gt;\n98. &lt;NA&gt;\n99. 30\n100. 24\n101. 19\n102. 28\n103. 23\n104. 64\n105. 60\n106. &lt;NA&gt;\n107. 49\n108. &lt;NA&gt;\n109. 44\n110. 22\n111. 60\n112. 48\n113. 37\n114. 35\n115. 47\n116. 22\n117. 45\n118. 49\n119. &lt;NA&gt;\n120. 71\n121. 54\n122. 38\n123. 19\n124. 58\n125. 45\n126. 23\n127. 46\n128. 25\n129. 21\n130. 48\n131. 49\n132. 45\n133. 36\n134. &lt;NA&gt;\n135. 55\n136. 52\n137. 24\n138. &lt;NA&gt;\n139. &lt;NA&gt;\n140. &lt;NA&gt;\n141. 16\n142. 44\n143. 51\n144. 42\n145. 35\n146. 35\n147. 38\n148. 35\n149. &lt;NA&gt;\n150. 50\n151. 49\n152. 46\n153. &lt;NA&gt;\n154. 58\n155. 41\n156. &lt;NA&gt;\n157. 42\n158. 40\n159. &lt;NA&gt;\n160. &lt;NA&gt;\n161. &lt;NA&gt;\n162. 42\n163. 55\n164. 50\n165. 16\n166. &lt;NA&gt;\n167. 29\n168. 21\n169. 30\n170. 15\n171. 30\n172. &lt;NA&gt;\n173. &lt;NA&gt;\n174. &lt;NA&gt;\n175. 46\n176. 54\n177. 36\n178. 28\n179. &lt;NA&gt;\n180. 65\n181. 33\n182. 44\n183. 37\n184. &lt;NA&gt;\n185. 55\n186. 47\n187. 36\n188. 58\n189. 31\n190. 23\n191. 19\n192. 64\n193. &lt;NA&gt;\n194. 64\n195. 22\n196. 28\n197. &lt;NA&gt;\n198. &lt;NA&gt;\n199. 22\n200. &lt;NA&gt;\n201. ⋯\n202. &lt;NA&gt;\n203. &lt;NA&gt;\n204. &lt;NA&gt;\n205. &lt;NA&gt;\n206. &lt;NA&gt;\n207. &lt;NA&gt;\n208. &lt;NA&gt;\n209. &lt;NA&gt;\n210. &lt;NA&gt;\n211. &lt;NA&gt;\n212. &lt;NA&gt;\n213. &lt;NA&gt;\n214. &lt;NA&gt;\n215. &lt;NA&gt;\n216. &lt;NA&gt;\n217. &lt;NA&gt;\n218. &lt;NA&gt;\n219. &lt;NA&gt;\n220. &lt;NA&gt;\n221. &lt;NA&gt;\n222. &lt;NA&gt;\n223. &lt;NA&gt;\n224. &lt;NA&gt;\n225. &lt;NA&gt;\n226. &lt;NA&gt;\n227. &lt;NA&gt;\n228. &lt;NA&gt;\n229. &lt;NA&gt;\n230. &lt;NA&gt;\n231. &lt;NA&gt;\n232. &lt;NA&gt;\n233. &lt;NA&gt;\n234. &lt;NA&gt;\n235. &lt;NA&gt;\n236. &lt;NA&gt;\n237. &lt;NA&gt;\n238. &lt;NA&gt;\n239. &lt;NA&gt;\n240. &lt;NA&gt;\n241. &lt;NA&gt;\n242. &lt;NA&gt;\n243. &lt;NA&gt;\n244. &lt;NA&gt;\n245. &lt;NA&gt;\n246. &lt;NA&gt;\n247. &lt;NA&gt;\n248. &lt;NA&gt;\n249. &lt;NA&gt;\n250. &lt;NA&gt;\n251. &lt;NA&gt;\n252. &lt;NA&gt;\n253. &lt;NA&gt;\n254. &lt;NA&gt;\n255. &lt;NA&gt;\n256. &lt;NA&gt;\n257. &lt;NA&gt;\n258. &lt;NA&gt;\n259. &lt;NA&gt;\n260. &lt;NA&gt;\n261. &lt;NA&gt;\n262. &lt;NA&gt;\n263. &lt;NA&gt;\n264. &lt;NA&gt;\n265. &lt;NA&gt;\n266. &lt;NA&gt;\n267. &lt;NA&gt;\n268. &lt;NA&gt;\n269. &lt;NA&gt;\n270. &lt;NA&gt;\n271. &lt;NA&gt;\n272. &lt;NA&gt;\n273. &lt;NA&gt;\n274. &lt;NA&gt;\n275. &lt;NA&gt;\n276. &lt;NA&gt;\n277. &lt;NA&gt;\n278. &lt;NA&gt;\n279. &lt;NA&gt;\n280. &lt;NA&gt;\n281. &lt;NA&gt;\n282. &lt;NA&gt;\n283. &lt;NA&gt;\n284. &lt;NA&gt;\n285. &lt;NA&gt;\n286. &lt;NA&gt;\n287. &lt;NA&gt;\n288. &lt;NA&gt;\n289. &lt;NA&gt;\n290. &lt;NA&gt;\n291. &lt;NA&gt;\n292. &lt;NA&gt;\n293. &lt;NA&gt;\n294. &lt;NA&gt;\n295. &lt;NA&gt;\n296. &lt;NA&gt;\n297. &lt;NA&gt;\n298. &lt;NA&gt;\n299. &lt;NA&gt;\n300. &lt;NA&gt;\n301. &lt;NA&gt;\n302. &lt;NA&gt;\n303. &lt;NA&gt;\n304. &lt;NA&gt;\n305. &lt;NA&gt;\n306. &lt;NA&gt;\n307. &lt;NA&gt;\n308. &lt;NA&gt;\n309. &lt;NA&gt;\n310. &lt;NA&gt;\n311. &lt;NA&gt;\n312. &lt;NA&gt;\n313. &lt;NA&gt;\n314. &lt;NA&gt;\n315. &lt;NA&gt;\n316. &lt;NA&gt;\n317. &lt;NA&gt;\n318. &lt;NA&gt;\n319. &lt;NA&gt;\n320. &lt;NA&gt;\n321. &lt;NA&gt;\n322. &lt;NA&gt;\n323. &lt;NA&gt;\n324. &lt;NA&gt;\n325. &lt;NA&gt;\n326. &lt;NA&gt;\n327. &lt;NA&gt;\n328. &lt;NA&gt;\n329. &lt;NA&gt;\n330. &lt;NA&gt;\n331. &lt;NA&gt;\n332. &lt;NA&gt;\n333. &lt;NA&gt;\n334. &lt;NA&gt;\n335. &lt;NA&gt;\n336. &lt;NA&gt;\n337. &lt;NA&gt;\n338. &lt;NA&gt;\n339. &lt;NA&gt;\n340. &lt;NA&gt;\n341. &lt;NA&gt;\n342. &lt;NA&gt;\n343. &lt;NA&gt;\n344. &lt;NA&gt;\n345. &lt;NA&gt;\n346. &lt;NA&gt;\n347. &lt;NA&gt;\n348. &lt;NA&gt;\n349. &lt;NA&gt;\n350. &lt;NA&gt;\n351. &lt;NA&gt;\n352. &lt;NA&gt;\n353. &lt;NA&gt;\n354. &lt;NA&gt;\n355. &lt;NA&gt;\n356. &lt;NA&gt;\n357. &lt;NA&gt;\n358. &lt;NA&gt;\n359. &lt;NA&gt;\n360. &lt;NA&gt;\n361. &lt;NA&gt;\n362. &lt;NA&gt;\n363. &lt;NA&gt;\n364. &lt;NA&gt;\n365. &lt;NA&gt;\n366. &lt;NA&gt;\n367. &lt;NA&gt;\n368. &lt;NA&gt;\n369. &lt;NA&gt;\n370. &lt;NA&gt;\n371. &lt;NA&gt;\n372. &lt;NA&gt;\n373. &lt;NA&gt;\n374. &lt;NA&gt;\n375. &lt;NA&gt;\n376. &lt;NA&gt;\n377. &lt;NA&gt;\n378. &lt;NA&gt;\n379. &lt;NA&gt;\n380. &lt;NA&gt;\n381. &lt;NA&gt;\n382. &lt;NA&gt;\n383. &lt;NA&gt;\n384. &lt;NA&gt;\n385. &lt;NA&gt;\n386. &lt;NA&gt;\n387. &lt;NA&gt;\n388. &lt;NA&gt;\n389. &lt;NA&gt;\n390. &lt;NA&gt;\n391. &lt;NA&gt;\n392. &lt;NA&gt;\n393. &lt;NA&gt;\n394. &lt;NA&gt;\n395. &lt;NA&gt;\n396. &lt;NA&gt;\n397. &lt;NA&gt;\n398. &lt;NA&gt;\n399. &lt;NA&gt;\n400. &lt;NA&gt;\n401. &lt;NA&gt;\n\n\n",
            "text/latex": "\\begin{enumerate*}\n\\item 29\n\\item 2\n\\item 30\n\\item 25\n\\item 0.9167\n\\item 47\n\\item 63\n\\item 39\n\\item 58\n\\item 71\n\\item 47\n\\item 19\n\\item <NA>\n\\item <NA>\n\\item <NA>\n\\item 50\n\\item 24\n\\item 36\n\\item 37\n\\item 47\n\\item 26\n\\item 25\n\\item 25\n\\item 19\n\\item 28\n\\item 45\n\\item 39\n\\item 30\n\\item 58\n\\item <NA>\n\\item 45\n\\item 22\n\\item <NA>\n\\item 41\n\\item 48\n\\item <NA>\n\\item 44\n\\item 59\n\\item 60\n\\item 45\n\\item <NA>\n\\item 53\n\\item 58\n\\item 36\n\\item 33\n\\item <NA>\n\\item <NA>\n\\item 36\n\\item 36\n\\item 14\n\\item 11\n\\item 49\n\\item <NA>\n\\item 36\n\\item <NA>\n\\item 46\n\\item 47\n\\item 27\n\\item 31\n\\item <NA>\n\\item <NA>\n\\item <NA>\n\\item <NA>\n\\item 27\n\\item 26\n\\item <NA>\n\\item <NA>\n\\item 64\n\\item 37\n\\item 39\n\\item 55\n\\item <NA>\n\\item 70\n\\item 69\n\\item 36\n\\item 39\n\\item 38\n\\item <NA>\n\\item 27\n\\item 31\n\\item 27\n\\item <NA>\n\\item 31\n\\item 17\n\\item <NA>\n\\item <NA>\n\\item 4\n\\item 27\n\\item 50\n\\item 48\n\\item 49\n\\item 48\n\\item 39\n\\item 23\n\\item 53\n\\item 36\n\\item <NA>\n\\item <NA>\n\\item 30\n\\item 24\n\\item 19\n\\item 28\n\\item 23\n\\item 64\n\\item 60\n\\item <NA>\n\\item 49\n\\item <NA>\n\\item 44\n\\item 22\n\\item 60\n\\item 48\n\\item 37\n\\item 35\n\\item 47\n\\item 22\n\\item 45\n\\item 49\n\\item <NA>\n\\item 71\n\\item 54\n\\item 38\n\\item 19\n\\item 58\n\\item 45\n\\item 23\n\\item 46\n\\item 25\n\\item 21\n\\item 48\n\\item 49\n\\item 45\n\\item 36\n\\item <NA>\n\\item 55\n\\item 52\n\\item 24\n\\item <NA>\n\\item <NA>\n\\item <NA>\n\\item 16\n\\item 44\n\\item 51\n\\item 42\n\\item 35\n\\item 35\n\\item 38\n\\item 35\n\\item <NA>\n\\item 50\n\\item 49\n\\item 46\n\\item <NA>\n\\item 58\n\\item 41\n\\item <NA>\n\\item 42\n\\item 40\n\\item <NA>\n\\item <NA>\n\\item <NA>\n\\item 42\n\\item 55\n\\item 50\n\\item 16\n\\item <NA>\n\\item 29\n\\item 21\n\\item 30\n\\item 15\n\\item 30\n\\item <NA>\n\\item <NA>\n\\item <NA>\n\\item 46\n\\item 54\n\\item 36\n\\item 28\n\\item <NA>\n\\item 65\n\\item 33\n\\item 44\n\\item 37\n\\item <NA>\n\\item 55\n\\item 47\n\\item 36\n\\item 58\n\\item 31\n\\item 23\n\\item 19\n\\item 64\n\\item <NA>\n\\item 64\n\\item 22\n\\item 28\n\\item <NA>\n\\item <NA>\n\\item 22\n\\item <NA>\n\\item ⋯\n\\item <NA>\n\\item <NA>\n\\item <NA>\n\\item <NA>\n\\item <NA>\n\\item <NA>\n\\item <NA>\n\\item <NA>\n\\item <NA>\n\\item <NA>\n\\item <NA>\n\\item <NA>\n\\item <NA>\n\\item <NA>\n\\item <NA>\n\\item <NA>\n\\item <NA>\n\\item <NA>\n\\item <NA>\n\\item <NA>\n\\item <NA>\n\\item <NA>\n\\item <NA>\n\\item <NA>\n\\item <NA>\n\\item <NA>\n\\item <NA>\n\\item <NA>\n\\item <NA>\n\\item <NA>\n\\item <NA>\n\\item <NA>\n\\item <NA>\n\\item <NA>\n\\item <NA>\n\\item <NA>\n\\item <NA>\n\\item <NA>\n\\item <NA>\n\\item <NA>\n\\item <NA>\n\\item <NA>\n\\item <NA>\n\\item <NA>\n\\item <NA>\n\\item <NA>\n\\item <NA>\n\\item <NA>\n\\item <NA>\n\\item <NA>\n\\item <NA>\n\\item <NA>\n\\item <NA>\n\\item <NA>\n\\item <NA>\n\\item <NA>\n\\item <NA>\n\\item <NA>\n\\item <NA>\n\\item <NA>\n\\item <NA>\n\\item <NA>\n\\item <NA>\n\\item <NA>\n\\item <NA>\n\\item <NA>\n\\item <NA>\n\\item <NA>\n\\item <NA>\n\\item <NA>\n\\item <NA>\n\\item <NA>\n\\item <NA>\n\\item <NA>\n\\item <NA>\n\\item <NA>\n\\item <NA>\n\\item <NA>\n\\item <NA>\n\\item <NA>\n\\item <NA>\n\\item <NA>\n\\item <NA>\n\\item <NA>\n\\item <NA>\n\\item <NA>\n\\item <NA>\n\\item <NA>\n\\item <NA>\n\\item <NA>\n\\item <NA>\n\\item <NA>\n\\item <NA>\n\\item <NA>\n\\item <NA>\n\\item <NA>\n\\item <NA>\n\\item <NA>\n\\item <NA>\n\\item <NA>\n\\item <NA>\n\\item <NA>\n\\item <NA>\n\\item <NA>\n\\item <NA>\n\\item <NA>\n\\item <NA>\n\\item <NA>\n\\item <NA>\n\\item <NA>\n\\item <NA>\n\\item <NA>\n\\item <NA>\n\\item <NA>\n\\item <NA>\n\\item <NA>\n\\item <NA>\n\\item <NA>\n\\item <NA>\n\\item <NA>\n\\item <NA>\n\\item <NA>\n\\item <NA>\n\\item <NA>\n\\item <NA>\n\\item <NA>\n\\item <NA>\n\\item <NA>\n\\item <NA>\n\\item <NA>\n\\item <NA>\n\\item <NA>\n\\item <NA>\n\\item <NA>\n\\item <NA>\n\\item <NA>\n\\item <NA>\n\\item <NA>\n\\item <NA>\n\\item <NA>\n\\item <NA>\n\\item <NA>\n\\item <NA>\n\\item <NA>\n\\item <NA>\n\\item <NA>\n\\item <NA>\n\\item <NA>\n\\item <NA>\n\\item <NA>\n\\item <NA>\n\\item <NA>\n\\item <NA>\n\\item <NA>\n\\item <NA>\n\\item <NA>\n\\item <NA>\n\\item <NA>\n\\item <NA>\n\\item <NA>\n\\item <NA>\n\\item <NA>\n\\item <NA>\n\\item <NA>\n\\item <NA>\n\\item <NA>\n\\item <NA>\n\\item <NA>\n\\item <NA>\n\\item <NA>\n\\item <NA>\n\\item <NA>\n\\item <NA>\n\\item <NA>\n\\item <NA>\n\\item <NA>\n\\item <NA>\n\\item <NA>\n\\item <NA>\n\\item <NA>\n\\item <NA>\n\\item <NA>\n\\item <NA>\n\\item <NA>\n\\item <NA>\n\\item <NA>\n\\item <NA>\n\\item <NA>\n\\item <NA>\n\\item <NA>\n\\item <NA>\n\\item <NA>\n\\item <NA>\n\\item <NA>\n\\item <NA>\n\\item <NA>\n\\item <NA>\n\\item <NA>\n\\item <NA>\n\\item <NA>\n\\end{enumerate*}\n",
            "text/plain": [
              "   [1] 29.0000  2.0000 30.0000 25.0000  0.9167 47.0000 63.0000 39.0000 58.0000\n",
              "  [10] 71.0000 47.0000 19.0000      NA      NA      NA 50.0000 24.0000 36.0000\n",
              "  [19] 37.0000 47.0000 26.0000 25.0000 25.0000 19.0000 28.0000 45.0000 39.0000\n",
              "  [28] 30.0000 58.0000      NA 45.0000 22.0000      NA 41.0000 48.0000      NA\n",
              "  [37] 44.0000 59.0000 60.0000 45.0000      NA 53.0000 58.0000 36.0000 33.0000\n",
              "  [46]      NA      NA 36.0000 36.0000 14.0000 11.0000 49.0000      NA 36.0000\n",
              "  [55]      NA 46.0000 47.0000 27.0000 31.0000      NA      NA      NA      NA\n",
              "  [64] 27.0000 26.0000      NA      NA 64.0000 37.0000 39.0000 55.0000      NA\n",
              "  [73] 70.0000 69.0000 36.0000 39.0000 38.0000      NA 27.0000 31.0000 27.0000\n",
              "  [82]      NA 31.0000 17.0000      NA      NA  4.0000 27.0000 50.0000 48.0000\n",
              "  [91] 49.0000 48.0000 39.0000 23.0000 53.0000 36.0000      NA      NA 30.0000\n",
              " [100] 24.0000 19.0000 28.0000 23.0000 64.0000 60.0000      NA 49.0000      NA\n",
              " [109] 44.0000 22.0000 60.0000 48.0000 37.0000 35.0000 47.0000 22.0000 45.0000\n",
              " [118] 49.0000      NA 71.0000 54.0000 38.0000 19.0000 58.0000 45.0000 23.0000\n",
              " [127] 46.0000 25.0000 21.0000 48.0000 49.0000 45.0000 36.0000      NA 55.0000\n",
              " [136] 52.0000 24.0000      NA      NA      NA 16.0000 44.0000 51.0000 42.0000\n",
              " [145] 35.0000 35.0000 38.0000 35.0000      NA 50.0000 49.0000 46.0000      NA\n",
              " [154] 58.0000 41.0000      NA 42.0000 40.0000      NA      NA      NA 42.0000\n",
              " [163] 55.0000 50.0000 16.0000      NA 29.0000 21.0000 30.0000 15.0000 30.0000\n",
              " [172]      NA      NA      NA 46.0000 54.0000 36.0000 28.0000      NA 65.0000\n",
              " [181] 33.0000 44.0000 37.0000      NA 55.0000 47.0000 36.0000 58.0000 31.0000\n",
              " [190] 23.0000 19.0000 64.0000      NA 64.0000 22.0000 28.0000      NA      NA\n",
              " [199] 22.0000      NA      NA 18.0000 17.0000 52.0000 46.0000 56.0000      NA\n",
              " [208]      NA 43.0000 31.0000      NA      NA 33.0000      NA 27.0000 55.0000\n",
              " [217] 54.0000      NA 61.0000 48.0000 18.0000 13.0000 21.0000      NA      NA\n",
              " [226]      NA 34.0000 40.0000 36.0000 50.0000 39.0000 56.0000 28.0000 56.0000\n",
              " [235] 56.0000 24.0000 18.0000      NA 24.0000 23.0000 45.0000 40.0000  6.0000\n",
              " [244] 57.0000      NA 32.0000 62.0000 54.0000 43.0000 52.0000      NA 62.0000\n",
              " [253] 67.0000 63.0000 61.0000 46.0000 52.0000 39.0000 18.0000 48.0000      NA\n",
              " [262] 49.0000 39.0000 17.0000 46.0000      NA 31.0000      NA 61.0000 47.0000\n",
              " [271] 64.0000 60.0000 60.0000 55.0000 54.0000 21.0000 57.0000 45.0000 31.0000\n",
              " [280] 50.0000 50.0000 27.0000 20.0000 51.0000      NA 21.0000      NA      NA\n",
              " [289] 36.0000      NA      NA      NA      NA      NA      NA      NA      NA\n",
              " [298]      NA      NA      NA      NA      NA      NA      NA      NA      NA\n",
              " [307] 40.0000      NA      NA 32.0000      NA      NA      NA      NA      NA\n",
              " [316]      NA 33.0000      NA      NA      NA      NA      NA 30.0000 28.0000\n",
              " [325] 18.0000      NA 34.0000 32.0000 57.0000 18.0000 23.0000 36.0000 28.0000\n",
              " [334] 51.0000 32.0000 19.0000 28.0000 36.0000  4.0000  1.0000 12.0000 34.0000\n",
              " [343] 19.0000 23.0000 26.0000      NA 27.0000 15.0000 45.0000 40.0000 20.0000\n",
              " [352] 25.0000 36.0000 25.0000      NA 42.0000 26.0000 26.0000  0.8333 31.0000\n",
              " [361]      NA 19.0000 54.0000 44.0000 52.0000 30.0000 30.0000      NA      NA\n",
              " [370] 29.0000      NA 29.0000 27.0000 24.0000 35.0000 31.0000  8.0000 22.0000\n",
              " [379] 30.0000      NA 20.0000      NA 21.0000 49.0000  8.0000 28.0000 18.0000\n",
              " [388]      NA 28.0000 22.0000 25.0000 18.0000 32.0000 18.0000      NA 42.0000\n",
              " [397] 34.0000  8.0000      NA      NA 23.0000 21.0000 19.0000      NA      NA\n",
              " [406]      NA 38.0000      NA 38.0000 35.0000 35.0000 38.0000 24.0000 16.0000\n",
              " [415] 26.0000 45.0000 24.0000 21.0000 22.0000      NA 34.0000 30.0000 50.0000\n",
              " [424] 30.0000 23.0000  1.0000 44.0000 28.0000  6.0000 30.0000      NA 43.0000\n",
              " [433] 45.0000  7.0000 24.0000 24.0000 49.0000 48.0000      NA 34.0000 32.0000\n",
              " [442] 21.0000 18.0000 53.0000 23.0000 21.0000      NA 52.0000 42.0000 36.0000\n",
              " [451] 21.0000 41.0000      NA      NA 33.0000 17.0000      NA      NA      NA\n",
              " [460]      NA      NA      NA 23.0000 34.0000      NA 22.0000      NA      NA\n",
              " [469] 45.0000      NA      NA 31.0000 30.0000 26.0000      NA 34.0000 26.0000\n",
              " [478] 22.0000  1.0000  3.0000      NA      NA      NA 25.0000      NA 48.0000\n",
              " [487]      NA 57.0000      NA      NA      NA  2.0000      NA 27.0000 19.0000\n",
              " [496] 30.0000 20.0000 45.0000      NA 46.0000 41.0000 13.0000 19.0000 30.0000\n",
              " [505] 48.0000 71.0000 54.0000      NA      NA 64.0000 32.0000 18.0000  2.0000\n",
              " [514] 32.0000  3.0000 26.0000 19.0000      NA 20.0000 29.0000 39.0000 22.0000\n",
              " [523]      NA 24.0000      NA 28.0000      NA 50.0000 20.0000 40.0000 42.0000\n",
              " [532] 21.0000 32.0000 34.0000      NA      NA 33.0000  2.0000  8.0000 36.0000\n",
              " [541] 34.0000 30.0000 28.0000 23.0000  0.8333 25.0000  3.0000 50.0000      NA\n",
              " [550] 21.0000      NA      NA 25.0000 18.0000 20.0000 30.0000 59.0000 30.0000\n",
              " [559] 35.0000 22.0000      NA 25.0000 41.0000 25.0000 14.0000 50.0000 22.0000\n",
              " [568]      NA 27.0000 29.0000 27.0000 30.0000 22.0000 35.0000 30.0000 28.0000\n",
              " [577] 23.0000      NA 12.0000 40.0000 36.0000 28.0000 32.0000 29.0000  4.0000\n",
              " [586]  2.0000      NA      NA 36.0000 33.0000      NA      NA      NA 32.0000\n",
              " [595]      NA      NA 26.0000      NA 30.0000 24.0000      NA 18.0000 42.0000\n",
              " [604] 13.0000 16.0000 35.0000 16.0000 25.0000 18.0000 20.0000 30.0000 26.0000\n",
              " [613] 40.0000 24.0000 41.0000 18.0000  0.8333 23.0000 20.0000 25.0000 35.0000\n",
              " [622] 17.0000 32.0000 20.0000 39.0000 39.0000  6.0000  2.0000 17.0000 38.0000\n",
              " [631]  9.0000 26.0000 11.0000  4.0000 20.0000 26.0000 25.0000 18.0000 24.0000\n",
              " [640] 35.0000 40.0000 38.0000  5.0000  9.0000  3.0000 13.0000 23.0000  5.0000\n",
              " [649]      NA 45.0000 23.0000 17.0000 27.0000 23.0000 20.0000 32.0000 33.0000\n",
              " [658]  3.0000      NA      NA      NA 18.0000 40.0000 26.0000 15.0000 45.0000\n",
              " [667] 18.0000 27.0000 22.0000 19.0000 26.0000 22.0000 20.0000 32.0000 21.0000\n",
              " [676] 18.0000 26.0000  6.0000      NA      NA  9.0000 40.0000 32.0000      NA\n",
              " [685] 26.0000 18.0000 20.0000      NA 29.0000 22.0000 22.0000 35.0000 21.0000\n",
              " [694] 20.0000 19.0000 18.0000 18.0000 38.0000      NA 30.0000 17.0000 21.0000\n",
              " [703] 21.0000 21.0000      NA      NA 24.0000 33.0000 33.0000 28.0000 16.0000\n",
              " [712] 37.0000 28.0000      NA 24.0000 21.0000      NA 32.0000 29.0000 26.0000\n",
              " [721] 18.0000 20.0000 19.0000 24.0000 24.0000 36.0000 31.0000 31.0000 30.0000\n",
              " [730] 22.0000      NA 43.0000 35.0000 27.0000 19.0000 30.0000 36.0000  3.0000\n",
              " [739]  9.0000 59.0000 19.0000 44.0000 17.0000      NA 45.0000 22.0000 19.0000\n",
              " [748] 29.0000 30.0000 34.0000 28.0000  0.3333 27.0000 25.0000 24.0000 22.0000\n",
              " [757] 21.0000 17.0000      NA      NA 26.0000 33.0000  1.0000  0.1667 25.0000\n",
              " [766] 36.0000 36.0000 30.0000      NA 23.0000 26.0000 19.0000 65.0000      NA\n",
              " [775] 42.0000 43.0000 32.0000 19.0000 30.0000 24.0000 23.0000      NA 24.0000\n",
              " [784] 24.0000 23.0000 22.0000      NA 18.0000 16.0000 45.0000      NA      NA\n",
              " [793]      NA 47.0000  5.0000      NA      NA      NA      NA      NA      NA\n",
              " [802]      NA      NA      NA      NA      NA 21.0000 18.0000  9.0000 48.0000\n",
              " [811] 16.0000      NA      NA 25.0000      NA      NA 22.0000 16.0000      NA\n",
              " [820] 33.0000      NA  9.0000 41.0000 38.0000 40.0000 43.0000 14.0000 16.0000\n",
              " [829]  9.0000 10.0000  6.0000 11.0000 40.0000 32.0000      NA 20.0000 37.0000\n",
              " [838] 28.0000 19.0000      NA      NA      NA      NA      NA      NA      NA\n",
              " [847]      NA      NA      NA      NA      NA      NA      NA      NA      NA\n",
              " [856]      NA      NA      NA      NA      NA      NA      NA      NA      NA\n",
              " [865]      NA      NA      NA      NA      NA      NA      NA      NA      NA\n",
              " [874]      NA      NA      NA      NA      NA      NA      NA      NA      NA\n",
              " [883]      NA      NA      NA      NA      NA      NA      NA      NA      NA\n",
              " [892]      NA      NA      NA      NA      NA      NA      NA      NA      NA\n",
              " [901]      NA      NA      NA      NA      NA      NA      NA      NA      NA\n",
              " [910]      NA      NA      NA      NA      NA      NA      NA      NA      NA\n",
              " [919]      NA      NA      NA      NA      NA      NA      NA      NA      NA\n",
              " [928]      NA      NA      NA      NA      NA      NA      NA      NA      NA\n",
              " [937]      NA      NA      NA      NA      NA      NA      NA      NA      NA\n",
              " [946]      NA      NA      NA      NA      NA      NA      NA      NA      NA\n",
              " [955]      NA      NA      NA      NA      NA      NA      NA      NA      NA\n",
              " [964]      NA      NA      NA      NA      NA      NA      NA      NA      NA\n",
              " [973]      NA      NA      NA      NA      NA      NA      NA      NA      NA\n",
              " [982]      NA      NA      NA      NA      NA      NA      NA      NA      NA\n",
              " [991]      NA      NA      NA      NA      NA      NA      NA      NA      NA\n",
              "[1000]      NA      NA      NA      NA      NA      NA      NA      NA      NA\n",
              "[1009]      NA      NA      NA      NA      NA      NA      NA      NA      NA\n",
              "[1018]      NA      NA      NA      NA      NA      NA      NA      NA      NA\n",
              "[1027]      NA      NA      NA      NA      NA      NA      NA      NA      NA\n",
              "[1036]      NA      NA      NA      NA      NA      NA      NA      NA      NA\n",
              "[1045]      NA      NA      NA      NA      NA      NA      NA      NA      NA\n",
              "[1054]      NA      NA      NA      NA      NA      NA      NA      NA      NA\n",
              "[1063]      NA      NA      NA      NA      NA      NA      NA      NA      NA\n",
              "[1072]      NA      NA      NA      NA      NA      NA      NA      NA      NA\n",
              "[1081]      NA      NA      NA      NA      NA      NA      NA      NA      NA\n",
              "[1090]      NA      NA      NA      NA      NA      NA      NA      NA      NA\n",
              "[1099]      NA      NA      NA      NA      NA      NA      NA      NA      NA\n",
              "[1108]      NA      NA      NA      NA      NA      NA      NA      NA      NA\n",
              "[1117]      NA      NA      NA      NA      NA      NA      NA      NA      NA\n",
              "[1126]      NA      NA      NA      NA      NA      NA      NA      NA      NA\n",
              "[1135]      NA      NA      NA      NA      NA      NA      NA      NA      NA\n",
              "[1144]      NA      NA      NA      NA      NA      NA      NA      NA      NA\n",
              "[1153]      NA      NA      NA      NA      NA      NA      NA      NA      NA\n",
              "[1162]      NA      NA      NA      NA      NA      NA      NA      NA      NA\n",
              "[1171]      NA      NA      NA      NA      NA      NA      NA      NA      NA\n",
              "[1180]      NA      NA      NA      NA      NA      NA      NA      NA      NA\n",
              "[1189]      NA      NA      NA      NA      NA      NA      NA      NA      NA\n",
              "[1198]      NA      NA      NA      NA      NA      NA      NA      NA      NA\n",
              "[1207]      NA      NA      NA      NA      NA      NA      NA      NA      NA\n",
              "[1216]      NA      NA      NA      NA      NA      NA      NA      NA      NA\n",
              "[1225]      NA      NA      NA      NA      NA      NA      NA      NA      NA\n",
              "[1234]      NA      NA      NA      NA      NA      NA      NA      NA      NA\n",
              "[1243]      NA      NA      NA      NA      NA      NA      NA      NA      NA\n",
              "[1252]      NA      NA      NA      NA      NA      NA      NA      NA      NA\n",
              "[1261]      NA      NA      NA      NA      NA      NA      NA      NA      NA\n",
              "[1270]      NA      NA      NA      NA      NA      NA      NA      NA      NA\n",
              "[1279]      NA      NA      NA      NA      NA      NA      NA      NA      NA\n",
              "[1288]      NA      NA      NA      NA      NA      NA      NA      NA      NA\n",
              "[1297]      NA      NA      NA      NA      NA      NA      NA      NA      NA\n",
              "[1306]      NA      NA      NA      NA      NA      NA      NA      NA"
            ]
          },
          "metadata": {}
        }
      ]
    },
    {
      "cell_type": "markdown",
      "source": [
        "If you look through the results, you will see that most individuals have numbers in this list, but some have NA. These NAs are the people for which we do not have age information.\n",
        "\n",
        "By the way, the titanic.csv file simply has nothing in the places where there is missing data. When R loaded it, it replaced the empty spots with NA automatically."
      ],
      "metadata": {
        "id": "vw9uRDGV9gXw"
      }
    },
    {
      "cell_type": "markdown",
      "source": [
        "### Measures of location\n",
        "This week we want to use R to give some basic descriptive statistics for numerical data."
      ],
      "metadata": {
        "id": "pKwEtsLY9kG4"
      }
    },
    {
      "cell_type": "markdown",
      "source": [
        "#### mean()\n",
        "We have already seen in lab 1 how to calculate the mean of a vector of data using **`mean()`**. Unfortunately, if there are missing data we need to tell R how to deal with it.\n",
        "\n",
        "A (somewhat annoying) quirk of R is that if we try to take the mean of a list of numbers that include missing data, we get an NA for the result!"
      ],
      "metadata": {
        "id": "-HKcCcrn9nep"
      }
    },
    {
      "cell_type": "code",
      "source": [
        "mean(titanicData$age)"
      ],
      "metadata": {
        "colab": {
          "base_uri": "https://localhost:8080/",
          "height": 34
        },
        "id": "Z5GXrAHk9riY",
        "outputId": "648f67f6-6eec-43b7-c58b-9d934612dc1a"
      },
      "execution_count": null,
      "outputs": [
        {
          "output_type": "display_data",
          "data": {
            "text/html": [
              "&lt;NA&gt;"
            ],
            "text/markdown": "&lt;NA&gt;",
            "text/latex": "<NA>",
            "text/plain": [
              "[1] NA"
            ]
          },
          "metadata": {}
        }
      ]
    },
    {
      "cell_type": "markdown",
      "source": [
        "#### na.rm = TRUE\n",
        "To get the mean of all the numbers that we do have, we have to add an option to the mean() function. This option is **`na.rm = TRUE`**."
      ],
      "metadata": {
        "id": "kZzAxBNrAPww"
      }
    },
    {
      "cell_type": "code",
      "source": [
        "mean(titanicData$age, na.rm = TRUE)"
      ],
      "metadata": {
        "colab": {
          "base_uri": "https://localhost:8080/",
          "height": 34
        },
        "id": "II5wU-sOAX0K",
        "outputId": "c5bcc7a1-c731-46bf-951a-d34980bdac24"
      },
      "execution_count": null,
      "outputs": [
        {
          "output_type": "display_data",
          "data": {
            "text/html": [
              "31.194181042654"
            ],
            "text/markdown": "31.194181042654",
            "text/latex": "31.194181042654",
            "text/plain": [
              "[1] 31.19418"
            ]
          },
          "metadata": {}
        }
      ]
    },
    {
      "cell_type": "markdown",
      "source": [
        "This tells R to remove (“**`rm`**”) the NAs before taking the mean. It turns out that the mean age of passengers that we have information for was about 31.2.\n",
        "\n",
        "**`na.rm = TRUE`** can be added to many functions in R, including..."
      ],
      "metadata": {
        "id": "8tdOQl5sAbu-"
      }
    },
    {
      "cell_type": "markdown",
      "source": [
        "#### median()\n",
        "The median of a series of numbers is the “middle” number – half of the numbers in the list are greater the median and half are below it. It can be calculated in R by using **`median()`**."
      ],
      "metadata": {
        "id": "_Kk8zj44Algz"
      }
    },
    {
      "cell_type": "code",
      "source": [
        "median(titanicData$age, na.rm = TRUE)"
      ],
      "metadata": {
        "colab": {
          "base_uri": "https://localhost:8080/",
          "height": 34
        },
        "id": "VKFbs1jXAp6g",
        "outputId": "b21a2eb1-228f-4d3e-b32c-20b63a24cf1b"
      },
      "execution_count": null,
      "outputs": [
        {
          "output_type": "display_data",
          "data": {
            "text/html": [
              "30"
            ],
            "text/markdown": "30",
            "text/latex": "30",
            "text/plain": [
              "[1] 30"
            ]
          },
          "metadata": {}
        }
      ]
    },
    {
      "cell_type": "markdown",
      "source": [
        "#### summary()\n",
        "A handy function that will return both the mean and median at the same time (along with other information such as the first and third quartiles) is **`summary()`**."
      ],
      "metadata": {
        "id": "8uieg5cyAtRI"
      }
    },
    {
      "cell_type": "code",
      "source": [
        "summary(titanicData$age)"
      ],
      "metadata": {
        "colab": {
          "base_uri": "https://localhost:8080/",
          "height": 52
        },
        "id": "TFAs0LvdAyKT",
        "outputId": "9c373182-6a5f-46a9-bf46-941e00cf9869"
      },
      "execution_count": null,
      "outputs": [
        {
          "output_type": "display_data",
          "data": {
            "text/plain": [
              "   Min. 1st Qu.  Median    Mean 3rd Qu.    Max.    NA's \n",
              " 0.1667 21.0000 30.0000 31.1942 41.0000 71.0000     680 "
            ]
          },
          "metadata": {}
        }
      ]
    },
    {
      "cell_type": "markdown",
      "source": [
        "From left to right, this output gives us the smallest (minimum) value in the list (“**`Min.`**”), the first quartile (“**`1st Qu.`**”), the median, the mean, the third quartile (“**`3rd Qu.`**”), the largest (maximum) value (“**`Max.`**”), and finally, the number of individuals with missing values (”**`NA’s`**”).\n",
        "\n",
        "The first quartile is the value in the data that is larger than a quarter of the data points. The third quartile is larger than three quarters of the data. These are also called the 25th percentile and the 75th percentile, respectively. (You may remember these from boxplots, where the top and bottom of the box mark the 75th and 25th percentiles, respectively.)"
      ],
      "metadata": {
        "id": "gqHpyPJiA4_V"
      }
    },
    {
      "cell_type": "markdown",
      "source": [
        "### Measures of variability\n",
        "R can also calculate measures of the variability of a set of data."
      ],
      "metadata": {
        "id": "HPe9vQtcBH5G"
      }
    },
    {
      "cell_type": "markdown",
      "source": [
        "#### var()\n",
        "To calculate the variance of a list of numbers, use **`var()`**."
      ],
      "metadata": {
        "id": "K_oZmDTsBd4P"
      }
    },
    {
      "cell_type": "code",
      "source": [
        "var(titanicData$age, na.rm = TRUE)"
      ],
      "metadata": {
        "colab": {
          "base_uri": "https://localhost:8080/",
          "height": 34
        },
        "id": "JYh4D1tzBhRD",
        "outputId": "7ca3a48f-d20b-45cd-8cbe-5110cdc94848"
      },
      "execution_count": null,
      "outputs": [
        {
          "output_type": "display_data",
          "data": {
            "text/html": [
              "217.489501756001"
            ],
            "text/markdown": "217.489501756001",
            "text/latex": "217.489501756001",
            "text/plain": [
              "[1] 217.4895"
            ]
          },
          "metadata": {}
        }
      ]
    },
    {
      "cell_type": "markdown",
      "source": [
        "Note that **`var()`**, as well as **`sd()`** below, have the same need for **`na.rm = TRUE`** when analyzing data that include missing values."
      ],
      "metadata": {
        "id": "39d6BvIhBlSF"
      }
    },
    {
      "cell_type": "markdown",
      "source": [
        "#### sd()\n",
        "The standard deviation can be calculated by **`sd()`**."
      ],
      "metadata": {
        "id": "msV1uHE4BsmU"
      }
    },
    {
      "cell_type": "code",
      "source": [
        "sd(titanicData$age, na.rm = TRUE)"
      ],
      "metadata": {
        "colab": {
          "base_uri": "https://localhost:8080/",
          "height": 34
        },
        "id": "iqtpnM8wBx-q",
        "outputId": "3305263e-c352-460e-e967-d6dcac1fe61f"
      },
      "execution_count": null,
      "outputs": [
        {
          "output_type": "display_data",
          "data": {
            "text/html": [
              "14.7475252756522"
            ],
            "text/markdown": "14.7475252756522",
            "text/latex": "14.7475252756522",
            "text/plain": [
              "[1] 14.74753"
            ]
          },
          "metadata": {}
        }
      ]
    },
    {
      "cell_type": "markdown",
      "source": [
        "Of course, the standard deviation is the same as the square root of the variance. We can assign each calculation method to a variable and test their equality with **`==`**:"
      ],
      "metadata": {
        "id": "uBdo-kTWBz55"
      }
    },
    {
      "cell_type": "code",
      "source": [
        "sd1_titanicDataAge <- sd(titanicData$age, na.rm = TRUE)\n",
        "sd2_titanicDataAge <- sqrt(var(titanicData$age, na.rm = TRUE))\n",
        "sd1_titanicDataAge == sd2_titanicDataAge # Here we are testing this equality; if they are equivalent values then the output is TRUE"
      ],
      "metadata": {
        "colab": {
          "base_uri": "https://localhost:8080/",
          "height": 34
        },
        "id": "BfD6_KDtB90I",
        "outputId": "13a627f4-95e5-42c4-ad06-d1cb6a64884c"
      },
      "execution_count": null,
      "outputs": [
        {
          "output_type": "display_data",
          "data": {
            "text/html": [
              "TRUE"
            ],
            "text/markdown": "TRUE",
            "text/latex": "TRUE",
            "text/plain": [
              "[1] TRUE"
            ]
          },
          "metadata": {}
        }
      ]
    },
    {
      "cell_type": "markdown",
      "source": [
        "#### Coefficient of variation\n",
        "Surprisingly, there is no standard function in R to calculate the coefficient of variation. You can do this yourself, though, directly from the definition:"
      ],
      "metadata": {
        "id": "hdRSdwnPB5fL"
      }
    },
    {
      "cell_type": "code",
      "source": [
        "100 * sd1_titanicDataAge / mean(titanicData$age, na.rm = TRUE)"
      ],
      "metadata": {
        "colab": {
          "base_uri": "https://localhost:8080/",
          "height": 34
        },
        "id": "2BFeht2oCrMO",
        "outputId": "4cfb8985-fc5c-4a26-c24a-1c37173ea39c"
      },
      "execution_count": null,
      "outputs": [
        {
          "output_type": "display_data",
          "data": {
            "text/html": [
              "47.2765265274535"
            ],
            "text/markdown": "47.2765265274535",
            "text/latex": "47.2765265274535",
            "text/plain": [
              "[1] 47.27653"
            ]
          },
          "metadata": {}
        }
      ]
    },
    {
      "cell_type": "markdown",
      "source": [
        "#### IQR()\n",
        "The interquartile range (or IQR) is the difference between the third quartile and the first quartile; in other words the range covered by the middle half of the data. It can be calculated with **`IQR()`**."
      ],
      "metadata": {
        "id": "j1_q__2DC5I6"
      }
    },
    {
      "cell_type": "code",
      "source": [
        "IQR(titanicData$age, na.rm = TRUE)"
      ],
      "metadata": {
        "colab": {
          "base_uri": "https://localhost:8080/",
          "height": 34
        },
        "id": "0NwetLdyDB99",
        "outputId": "d29945e8-72df-473e-86d6-e02528b5bfee"
      },
      "execution_count": null,
      "outputs": [
        {
          "output_type": "display_data",
          "data": {
            "text/html": [
              "20"
            ],
            "text/markdown": "20",
            "text/latex": "20",
            "text/plain": [
              "[1] 20"
            ]
          },
          "metadata": {}
        }
      ]
    },
    {
      "cell_type": "markdown",
      "source": [
        "Note we could have calculated the IQR from the results of **`summary()`** above. The third quartile is 41 and the first quartile is 21, so the difference is 41 – 21 = 20.\n",
        "\n",
        "We can use indexing with brackets **`[]`** specifying the values within a vector to do this calculation using **`summary()`**. Converting data types is a final flourish so the result is simply 20."
      ],
      "metadata": {
        "id": "hr8lQDodDRQW"
      }
    },
    {
      "cell_type": "code",
      "source": [
        "summary(titanicData$age)[2]\n",
        "summary(titanicData$age)[5]\n",
        "iqr_titanicdataAge <-summary(titanicData$age)[5] - summary(titanicData$age)[2]\n",
        "iqr_titanicdataAge # prints the \"double\" data type with the erroneous \"3rd Qu.\" identifier\n",
        "as.integer(iqr_titanicdataAge) # converting data types from double to integer"
      ],
      "metadata": {
        "colab": {
          "base_uri": "https://localhost:8080/",
          "height": 139
        },
        "id": "DzFFIESlDGbN",
        "outputId": "40571100-c3ca-4140-8b1a-f1b84a4b45a2"
      },
      "execution_count": null,
      "outputs": [
        {
          "output_type": "display_data",
          "data": {
            "text/plain": [
              "1st Qu. \n",
              "     21 "
            ]
          },
          "metadata": {}
        },
        {
          "output_type": "display_data",
          "data": {
            "text/plain": [
              "3rd Qu. \n",
              "     41 "
            ]
          },
          "metadata": {}
        },
        {
          "output_type": "display_data",
          "data": {
            "text/plain": [
              "3rd Qu. \n",
              "     20 "
            ]
          },
          "metadata": {}
        },
        {
          "output_type": "display_data",
          "data": {
            "text/html": [
              "20"
            ],
            "text/markdown": "20",
            "text/latex": "20",
            "text/plain": [
              "[1] 20"
            ]
          },
          "metadata": {}
        }
      ]
    },
    {
      "cell_type": "markdown",
      "source": [
        "### Confidence intervals of the mean\n",
        "The confidence interval for an estimate tells us a range of values that is likely to contain the true value of the parameter. For example, in 95% of random samples the 95% confidence interval of the mean will contain the true value of the mean.\n",
        "\n",
        "R does not have a simple built-in function to calculate only the confidence interval of the mean, but the function that calculates t-tests will give us this information. (See chapters 11 and 12 in the text or Labs 7 and 8 for more on t-tests.) The function **`t.test()`** has many results in its output. By adding **`$conf.int`** to this function we only return the confidence interval for the mean. By default it gives us the 95% confidence interval."
      ],
      "metadata": {
        "id": "8s7dXPYdFqI6"
      }
    },
    {
      "cell_type": "code",
      "source": [
        "t.test(titanicData$age)$conf.int"
      ],
      "metadata": {
        "colab": {
          "base_uri": "https://localhost:8080/",
          "height": 34
        },
        "id": "PNRJntY3GCKw",
        "outputId": "121f81ce-dffd-48f7-8e31-cfe14957ce0d"
      },
      "execution_count": null,
      "outputs": [
        {
          "output_type": "display_data",
          "data": {
            "text/html": [
              "<style>\n",
              ".list-inline {list-style: none; margin:0; padding: 0}\n",
              ".list-inline>li {display: inline-block}\n",
              ".list-inline>li:not(:last-child)::after {content: \"\\00b7\"; padding: 0 .5ex}\n",
              "</style>\n",
              "<ol class=list-inline><li>30.0431212420956</li><li>32.3452408432124</li></ol>\n"
            ],
            "text/markdown": "1. 30.0431212420956\n2. 32.3452408432124\n\n\n",
            "text/latex": "\\begin{enumerate*}\n\\item 30.0431212420956\n\\item 32.3452408432124\n\\end{enumerate*}\n",
            "text/plain": [
              "[1] 30.04312 32.34524\n",
              "attr(,\"conf.level\")\n",
              "[1] 0.95"
            ]
          },
          "metadata": {}
        }
      ]
    },
    {
      "cell_type": "markdown",
      "source": [
        "As the result above shows, the 95% confidence interval of the mean for age in the `titanicData` data set is from about 30.0 to 32.3. (The confidence interval is not so useful in this case, because we actually have information for nearly all the individuals on the Titanic.)\n",
        "\n",
        "To calculate confidence intervals with a different level of confidence, we can add the option `conf.level` to the `t.test()` function. For example, for a 99% confidence interval we can use the following:"
      ],
      "metadata": {
        "id": "rOSg8fo7Hh1A"
      }
    },
    {
      "cell_type": "code",
      "source": [
        "t.test(titanicData$age, conf.level = 0.99)$conf.int"
      ],
      "metadata": {
        "colab": {
          "base_uri": "https://localhost:8080/",
          "height": 34
        },
        "id": "eQoPvqTOHzUW",
        "outputId": "08300edd-f8ec-47a1-976a-d210bd497681"
      },
      "execution_count": null,
      "outputs": [
        {
          "output_type": "display_data",
          "data": {
            "text/html": [
              "<style>\n",
              ".list-inline {list-style: none; margin:0; padding: 0}\n",
              ".list-inline>li {display: inline-block}\n",
              ".list-inline>li:not(:last-child)::after {content: \"\\00b7\"; padding: 0 .5ex}\n",
              "</style>\n",
              "<ol class=list-inline><li>29.6797561120819</li><li>32.7086059732261</li></ol>\n"
            ],
            "text/markdown": "1. 29.6797561120819\n2. 32.7086059732261\n\n\n",
            "text/latex": "\\begin{enumerate*}\n\\item 29.6797561120819\n\\item 32.7086059732261\n\\end{enumerate*}\n",
            "text/plain": [
              "[1] 29.67976 32.70861\n",
              "attr(,\"conf.level\")\n",
              "[1] 0.99"
            ]
          },
          "metadata": {}
        }
      ]
    },
    {
      "cell_type": "markdown",
      "source": [
        "## R commands summary\n",
        "![Describing data summary.png](data:image/png;base64,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)"
      ],
      "metadata": {
        "id": "tJMfiYS4IBE3"
      }
    },
    {
      "cell_type": "markdown",
      "source": [
        "## Activities -- *recommend you **do** complete outside of class time*"
      ],
      "metadata": {
        "id": "j1hng_q6IOGG"
      }
    },
    {
      "cell_type": "markdown",
      "source": [
        "### Distribution of sample means\n",
        "Go to http://www.zoology.ubc.ca/~whitlock/kingfisher/SamplingNormal.htm. This page contains some interactive visualizations that let you play around with sampling to see the distribution of sampling means. Click the button that says “Tutorial” near the bottom of the page and follow along with the instructions."
      ],
      "metadata": {
        "id": "Nlz90HF3Ifd1"
      }
    },
    {
      "cell_type": "markdown",
      "source": [
        "### Confidence intervals\n",
        "Go to http://www.zoology.ubc.ca/~whitlock/kingfisher/CIMean.htm. This applet draws confidence intervals for the mean of a known population. Click “Tutorial” and follow along."
      ],
      "metadata": {
        "id": "GE4vghX3IrGT"
      }
    },
    {
      "cell_type": "markdown",
      "source": [
        "## Questions\n",
        "For each lab, add new code **and** text boxes (or **`#`**-marked comments within code boxes) to the bottom and/or within the tutorial to practice the activities."
      ],
      "metadata": {
        "id": "hpPT7YnbIweq"
      }
    },
    {
      "cell_type": "markdown",
      "source": [
        "1.   Use the data file \"StatsStudentDataFA24.csv\" which includes data that your classmates collected on themselves during the first week of class. Remember that these data were collected using specific devices (i.e., measuring tapes and/or rulers based in inches and centimeters), but the data file asked for the measurements in centimenters or millimeters. Import the file into R.\n",
        "\n",
        "*   Use **`summary()`** to inspect the data on bicep circumference for the class. Note anything suspect you find, if anything.\n",
        "\n",
        "*   Plot the distribution of bicep circumference. Describe the shape of the distribution. Is it symmetric or strongly skewed? Is it unimodal or bimodal? Remember that a distribution is skewed if it is asymmetric. A distribution is skewed right if there is a long tail to the right, and skewed left if there is a long tail to the left.\n",
        "\n",
        "![skew.png](data:image/png;base64,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)\n",
        "\n",
        "*    Are there any outliers that look as though a student used the wrong units for their bicep circumference measurement. For example, are there any values that are more plausibly a circumference given in inches rather than the requested centimeters? Or, are there any outliers that are otherwise unexplainable but highly suspicious. If so, and if this is not likely to be an accurate description of an individual in your class, use **`filter()`** from the package **`dplyr`** to create a new data set without those rows.\n",
        "*    Use R to calculate the mean bicep circumference of all students in the class, using the filtered data.\n",
        "*   Use **`sd()`** to calculate the standard deviation of bicep circumference, using the filtered data."
      ],
      "metadata": {
        "id": "abC-uy9LI4ln"
      }
    },
    {
      "cell_type": "markdown",
      "source": [
        "2.   The file “caffeine.csv” contains data on the amount of caffeine in a 16 oz. cup of coffee obtained from various vendors. For context, doses of caffeine over 25 mg are enough to increase anxiety in some people, and doses over 300 to 360 mg are enough to significantly increase heart rate in most people; the recommended daily maximum intake is 400 mg. A can of Red Bull contains 80 mg of caffeine and a Celsius contains 200 mg.\n",
        "\n",
        "*   What is the mean amount of caffeine in 16 oz. coffees?\n",
        "\n",
        "*   What is the 95% confidence interval for the mean?\n",
        "\n",
        "*   Plot the frequency distribution of caffeine levels for these data in a histogram. Is the amount of caffeine in a cup of coffee relatively consistent from one vendor to another? What is the standard deviation of caffeine level? What is the coefficient of variation?\n",
        "\n",
        "*   The file “caffeineStarbucks.csv” has data on six 16 oz. cups of Breakfast Blend coffee sampled on six different days from a Starbucks location. Calculate the mean and the 95% confidence interval for the mean for these data. Compare these results to the data taken on the broader sample of vendors in the first file. Describe the difference."
      ],
      "metadata": {
        "id": "opo49lIZJ4pK"
      }
    },
    {
      "cell_type": "markdown",
      "source": [
        "3.   A confidence interval is a range of values that are likely to contain the true value of a parameter. Consider the “caffeine.csv” data again.\n",
        "\n",
        "*   Calculate the 99% confidence interval for the mean caffeine level.\n",
        "\n",
        "*   Compare this 99% confidence interval to the 95% confidence interval you calculate in question 2b. Which confidence interval is wider (i.e., spans a broader range)? Why should this one be wider?\n",
        "\n",
        "*   Let’s compare the quantiles of the distribution of caffeine to this confidence interval. Approximately 95% of the data values should fall between the 2.5% and 97.5% quantiles of the distribution of caffeine. We can use R to calculate the 2.5% and 97.5% quantiles with a command like the following. (Replace “datavector” with the name of the vector of your caffeine data.)\n",
        "\n",
        "```\n",
        "quantile(datavector, c(0.025, 0.975), na.rm =TRUE)\n",
        "```\n",
        "Are these the same as the boundaries of the 95% confidence interval? If not, why not? Which should bound a smaller region, the quantile or the confidence interval of the mean?"
      ],
      "metadata": {
        "id": "nuf9SvvkKn0P"
      }
    },
    {
      "cell_type": "markdown",
      "source": [
        "4.   Return to the class data set \"StatsStudentDataFA24.csv”. Find the mean value of “number of siblings.” Add one to this to find the mean number of children per family in the class.\n",
        "\n",
        "*   The mean number of offspring per family twenty years ago was about 2. Is the value for this class similar, greater, or smaller? If different, think of reasons for the difference.\n",
        "\n",
        "*   Are the families represented in this class systematically different from the population at large? Is there a potential sampling bias? What effect does this have on the estimated mean family size of all couples?"
      ],
      "metadata": {
        "id": "1baJKrMMLPC7"
      }
    },
    {
      "cell_type": "markdown",
      "source": [
        "5.   Return to the data on countries of the world, in “countries.csv”. Plot the distributions for `ecological_footprint_2000`, `cell_phone_subscriptions_per_100_people_2012`, and `life_expectancy_at_birth_female`.\n",
        "\n",
        "*   For each variable, plot a histogram of the distribution. Is the variable skewed? If so, in which direction?\n",
        "\n",
        "*   For each variable, calculate the mean and median. Are they similar? Match the difference in mean and median to the direction of skew on the histogram. Do you see a pattern?"
      ],
      "metadata": {
        "id": "yMilB4p2LZET"
      }
    }
  ]
}